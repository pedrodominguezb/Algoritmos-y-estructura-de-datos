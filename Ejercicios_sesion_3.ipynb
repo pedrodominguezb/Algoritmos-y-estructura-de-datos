{
  "nbformat": 4,
  "nbformat_minor": 0,
  "metadata": {
    "colab": {
      "name": "Ejercicios_sesion_3.ipynb",
      "provenance": [],
      "collapsed_sections": [],
      "authorship_tag": "ABX9TyPe5b7eSuh4Aoc6jvL/I3Vz",
      "include_colab_link": true
    },
    "kernelspec": {
      "name": "python3",
      "display_name": "Python 3"
    },
    "language_info": {
      "name": "python"
    }
  },
  "cells": [
    {
      "cell_type": "markdown",
      "metadata": {
        "id": "view-in-github",
        "colab_type": "text"
      },
      "source": [
        "<a href=\"https://colab.research.google.com/github/pedrodominguezb/Algoritmos-y-estructura-de-datos/blob/main/Ejercicios_sesion_3.ipynb\" target=\"_parent\"><img src=\"https://colab.research.google.com/assets/colab-badge.svg\" alt=\"Open In Colab\"/></a>"
      ]
    },
    {
      "cell_type": "markdown",
      "metadata": {
        "id": "xAQi_aSd-BCi"
      },
      "source": [
        "1.- Piensa en todos los casos posibles para que el programa que se realizó en la sesión número tres donde se resolvió el algoritmo de mínimo y máximo. Lista todos los casos que pienses, observa el ejemplo. Lista al menos 5\n",
        "1. Una lista vacía\n",
        "2. Una lista con un solo valor minímo \n",
        "3. Una lista en la cual el valor minimo se repite varias veces\n",
        "4. Una lista con valores decimales\n",
        "5. Una lista con valores negativos\n",
        "\n",
        "Vamos a expresar nuestros casos como diccionarios para probar muy facilmente nuestros algoritmos, cada diccionario llevará dos keys, una entrada que es la lista a ingresar y una salida, que es lo que esperas que retorne tu función. Observemos:\n",
        "\n",
        "**Consejo:** siempre que se maneje una lista vacía, la salida puede ser 0"
      ]
    },
    {
      "cell_type": "code",
      "metadata": {
        "id": "M9_dr4YI-LSG"
      },
      "source": [
        "test = {\n",
        "    'input': {\n",
        "        'nums': []\n",
        "    },\n",
        "    'output': 0\n",
        "}"
      ],
      "execution_count": 1,
      "outputs": []
    },
    {
      "cell_type": "markdown",
      "metadata": {
        "id": "Se55pAKB-Y04"
      },
      "source": [
        "Recordemos que para acceder usamos la key, por ejemplo, si yo quiero probar mi lista e ingresarla dentro de una función, solo usamos la key 'input' y la key dentro de ínput, en este caso, 'nums'. Lo mismo para la salida."
      ]
    },
    {
      "cell_type": "code",
      "metadata": {
        "id": "20unXSrF-bQh"
      },
      "source": [
        "print(test['input']['nums'])\n",
        "print(test['output'])"
      ],
      "execution_count": null,
      "outputs": []
    },
    {
      "cell_type": "markdown",
      "metadata": {
        "id": "CGZHWSs5-e7b"
      },
      "source": [
        "[19, 25, 29, 3, 5, 6, 7, 9, 11, 14]\n",
        "3\n",
        "Almacena todos tus casos en diccionarios, por ejemplo"
      ]
    },
    {
      "cell_type": "code",
      "metadata": {
        "id": "INVBOucg-jtH"
      },
      "source": [
        "#Cuando una lista está vacía\n",
        "test1 = {\n",
        "    'input': {\n",
        "        'nums': []\n",
        "    },\n",
        "    'output': 0\n",
        "}"
      ],
      "execution_count": null,
      "outputs": []
    },
    {
      "cell_type": "code",
      "metadata": {
        "colab": {
          "base_uri": "https://localhost:8080/"
        },
        "id": "ld1QILE4-oRN",
        "outputId": "b9e8be9c-dc0e-4c17-f3da-00b3d85e5d46"
      },
      "source": [
        "#Cuando una lista tiene solo un valor mínimo\n",
        "\n",
        "test2= {\n",
        "    'input': {\n",
        "        'nums': [2,3,1,4,5,6,7,8]\n",
        "    },\n",
        "    'output': 1\n",
        "}\n",
        "\n",
        "print(test2['input']['nums'])\n",
        "print(test2['output'])"
      ],
      "execution_count": 9,
      "outputs": [
        {
          "output_type": "stream",
          "text": [
            "[2, 3, 1, 4, 5, 6, 7, 8]\n",
            "1\n"
          ],
          "name": "stdout"
        }
      ]
    },
    {
      "cell_type": "code",
      "metadata": {
        "id": "pz-_PGxy-EHl"
      },
      "source": [
        "#Cuando en una lista está vacía el valor minimo se repite varias veces\n",
        "test3= {\n",
        "    'input': {\n",
        "        'nums': [2,3,1,4,5,6,7,8,1,2,5,5,2,1,1]\n",
        "    },\n",
        "    'output': 1\n",
        "}"
      ],
      "execution_count": null,
      "outputs": []
    },
    {
      "cell_type": "code",
      "metadata": {
        "id": "uLozTIeJ-TM3"
      },
      "source": [
        "#Cuando una lista tiene valores decimales\n",
        "test4= {\n",
        "    'input': {\n",
        "        'nums': [2.5,3.45,1.3,1.76,4.34,2.27,1.4,1.89,0.5]\n",
        "    },\n",
        "    'output': 0.5\n",
        "}"
      ],
      "execution_count": null,
      "outputs": []
    },
    {
      "cell_type": "code",
      "metadata": {
        "id": "1_hfI_c6-p26"
      },
      "source": [
        "#Cuando una lista tiene valores negativos\n",
        "test4= {\n",
        "    'input': {\n",
        "        'nums': [-2,3,-1,4,5,6,-7,8,-6,9,5]\n",
        "    },\n",
        "    'output': -7\n",
        "}"
      ],
      "execution_count": null,
      "outputs": []
    },
    {
      "cell_type": "markdown",
      "metadata": {
        "id": "eS_7uKBs-qAE"
      },
      "source": [
        "¿Recuerdas la teoría de la sesión de este ejercicio?\n",
        "Explica brevemente en una serie de pasos como trabaja el primer algoritmo que es el por caso\n",
        "1.  Se guarda el resultado de encontrar en valor en 0 en la variable, en caso de que no se encuentre el 0, el siguiente valor menor se asigna como el minimo dentro de la lista.\n",
        "2. Durante el ciclo for se recorre lista en el orden los valores, se compara cada valor en la lista con el siguiente usando la sentencia if, preguntando si el valor es mayor que el siguiente y asi sucesivamente con cada valor de la lista.\n",
        "3. Cuando la condición de que el valor no sea mayor a los valores de la lista, el valor se asigna como el minimo y es asignado a la variable \"minimo\"."
      ]
    },
    {
      "cell_type": "code",
      "metadata": {
        "id": "hkC60BSa-0Ua"
      },
      "source": [
        "lista=[4,5,68,34,2,1,6,43,5,6,53,23]\n",
        "\n",
        "def findMin(alist):\n",
        "  minimo = alist[0] ####------O(n^2)\n",
        "  ####-------- Worst Case\n",
        "  for i in alist:\n",
        "    valor_minimo = True\n",
        "    for j in alist:\n",
        "      if i > j :\n",
        "        valor_minimo = False\n",
        "    if valor_minimo:\n",
        "      minimo = i\n",
        "  return minimo\n"
      ],
      "execution_count": 2,
      "outputs": []
    },
    {
      "cell_type": "code",
      "metadata": {
        "colab": {
          "base_uri": "https://localhost:8080/"
        },
        "id": "X9NBzX0Q02hx",
        "outputId": "2af3aa65-8fc3-4be4-8142-e3d8ee688ed9"
      },
      "source": [
        "  print(findMin(lista))"
      ],
      "execution_count": 3,
      "outputs": [
        {
          "output_type": "stream",
          "text": [
            "1\n"
          ],
          "name": "stdout"
        }
      ]
    },
    {
      "cell_type": "markdown",
      "metadata": {
        "id": "khTaUDKL-4Ek"
      },
      "source": [
        "**Prueba tu código ingresando en la función tus casos que están almacenados en el diccionario, ejemplo: Tienes que agregar la solución cuando la lista este vacía**"
      ]
    },
    {
      "cell_type": "code",
      "metadata": {
        "id": "kZDKIgC9-6uE"
      },
      "source": [
        "findMin(test2['input']['nums'])\n",
        "\n",
        "##Para verificar que tu evaluación es correcta solo evalúa la siguiente línea\n",
        "\n",
        "print(findMin(test2['input']['nums']) == test2['output'])"
      ],
      "execution_count": null,
      "outputs": []
    },
    {
      "cell_type": "markdown",
      "metadata": {
        "id": "t0v4Vt6u-94T"
      },
      "source": [
        "True\n",
        "\n",
        "Explica brevemente en una serie de pasos como trabaja el segundo algoritmo, pon ejemplos con listas o imágenes si lo requieres.\n",
        "1. Se establece el valor minimo (set_min), donde la entrada tambien sera una lista. \n",
        "2. En el ciclo for se recorre cada valor numerico de la lista comparandolo si el valor es menor que el valor establecido.\n",
        "3. Si el valor es minimo, el nuevo valor \"i\" pasa a ser \"set_min\"."
      ]
    },
    {
      "cell_type": "code",
      "metadata": {
        "id": "1EB9c6xs_DMT"
      },
      "source": [
        "def findMinOptimizado(lista_):\n",
        "  ##Best case\n",
        "  set_min = lista_[0]\n",
        "  for i in lista_: ##----------> O(n)\n",
        "    if i < set_min:\n",
        "      set_min = i\n",
        "  return set_min"
      ],
      "execution_count": 6,
      "outputs": []
    },
    {
      "cell_type": "code",
      "metadata": {
        "colab": {
          "base_uri": "https://localhost:8080/"
        },
        "id": "_li70wSM7zOu",
        "outputId": "4000d054-9140-4f08-f9fd-c64f2ced8840"
      },
      "source": [
        "print(findMinOptimizado([8,4,5,2,6,9,2]))"
      ],
      "execution_count": 7,
      "outputs": [
        {
          "output_type": "stream",
          "text": [
            "2\n"
          ],
          "name": "stdout"
        }
      ]
    },
    {
      "cell_type": "markdown",
      "metadata": {
        "id": "U9qRaGtq_F0t"
      },
      "source": [
        "**Evalúa tus casos al igual que en el algoritmo anterior e implementa cuando una lista es vacía**"
      ]
    },
    {
      "cell_type": "code",
      "metadata": {
        "colab": {
          "base_uri": "https://localhost:8080/"
        },
        "id": "uugaellk_L5a",
        "outputId": "e4330b24-2874-4a3e-a009-1ee4cf7caeb6"
      },
      "source": [
        "findMinOptimizado(test2['input']['nums'])\n",
        "\n",
        "##Para verificar que tu evaluación es correcta solo evalúa la siguiente línea\n",
        "\n",
        "print(findMinOptimizado(test2['input']['nums']) == test2['output'])"
      ],
      "execution_count": 10,
      "outputs": [
        {
          "output_type": "stream",
          "text": [
            "True\n"
          ],
          "name": "stdout"
        }
      ]
    },
    {
      "cell_type": "markdown",
      "metadata": {
        "id": "XmG1C_6J_O33"
      },
      "source": [
        "True\n",
        "\n",
        "**Disfruta realizando tus ejercicios... Y dsfruta tu fin de semana. Cualquier duda no dudes en contactarme.**"
      ]
    },
    {
      "cell_type": "code",
      "metadata": {
        "id": "c6BR7Hps_S4I"
      },
      "source": [
        ""
      ],
      "execution_count": null,
      "outputs": []
    }
  ]
}