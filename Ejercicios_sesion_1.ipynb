{
  "nbformat": 4,
  "nbformat_minor": 0,
  "metadata": {
    "colab": {
      "name": "Ejercicios_sesion_1.ipynb",
      "provenance": [],
      "authorship_tag": "ABX9TyNWnlBncJdAbpGDEmM4sBI/",
      "include_colab_link": true
    },
    "kernelspec": {
      "name": "python3",
      "display_name": "Python 3"
    },
    "language_info": {
      "name": "python"
    }
  },
  "cells": [
    {
      "cell_type": "markdown",
      "metadata": {
        "id": "view-in-github",
        "colab_type": "text"
      },
      "source": [
        "<a href=\"https://colab.research.google.com/github/pedrodominguezb/Algoritmos-y-estructura-de-datos/blob/main/Ejercicios_sesion_1.ipynb\" target=\"_parent\"><img src=\"https://colab.research.google.com/assets/colab-badge.svg\" alt=\"Open In Colab\"/></a>"
      ]
    },
    {
      "cell_type": "markdown",
      "metadata": {
        "id": "EUpo2V_Vj9DJ"
      },
      "source": [
        "Ejercio 1: Se tiene la siguiente lista de valores:\n",
        "\n",
        "lista_ = [1,2,3,4,5,6,6, [2,4,5,6,7,8,9], 'hola', 45]\n",
        "\n",
        "Necesitamos extraer de la lista anidada todos los valores que sean menores a 7 ya que son de vital importancia para generar un diccionario de datos.\n",
        "\n",
        "Consejo: use type para conocer el tipo de datos de los valores de la lista."
      ]
    },
    {
      "cell_type": "code",
      "metadata": {
        "colab": {
          "base_uri": "https://localhost:8080/"
        },
        "id": "meaZ-zJrj-8F",
        "outputId": "8040b7f9-d558-4935-97cb-ecf770eadf43"
      },
      "source": [
        "lista_mixta=[1,2,3,4,5,6,6,[2,4,5,6,6,5,4,3,2,1,5,6,7,8,9],'hola',45]\n",
        "def get_my_list (lista_mixta):\n",
        "    \n",
        "    for index in range(0,len(lista_mixta)-1):\n",
        "        if type(lista_mixta[index]) == list:\n",
        "                output_lista=lista_mixta[index]\n",
        "                menor_7=list(filter(lambda n:n<7,output_lista))\n",
        "    return menor_7\n",
        "\n",
        "print (get_my_list(lista_mixta))\n",
        "\n",
        "#Los siguientes comentario se corre cuando se obtenga la lista para evaluar si corresponde al resultado dado\n",
        "#result = [2, 4, 5, 6, 6, 5, 4, 3, 2, 1, 5, 6]\n",
        "#print(result == get_list)"
      ],
      "execution_count": 4,
      "outputs": [
        {
          "output_type": "stream",
          "text": [
            "[2, 4, 5, 6, 6, 5, 4, 3, 2, 1, 5, 6]\n"
          ],
          "name": "stdout"
        }
      ]
    },
    {
      "cell_type": "code",
      "metadata": {
        "id": "ADhrBAsjr4o_"
      },
      "source": [
        ""
      ],
      "execution_count": null,
      "outputs": []
    },
    {
      "cell_type": "markdown",
      "metadata": {
        "id": "l_WuywNDgbWf"
      },
      "source": [
        "Ejercicio 2: Se trata de que usted genere una función para que los valores obtenidos en la lista pasen a formar parte de un diccionario que nos ayude a hacer consultas de los valores que se encuentran en esta estrctura de datos."
      ]
    },
    {
      "cell_type": "code",
      "metadata": {
        "id": "5AhnuglmgkoL"
      },
      "source": [
        ""
      ],
      "execution_count": null,
      "outputs": []
    }
  ]
}