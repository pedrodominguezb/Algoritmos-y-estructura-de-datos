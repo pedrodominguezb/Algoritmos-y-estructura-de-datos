{
  "nbformat": 4,
  "nbformat_minor": 0,
  "metadata": {
    "colab": {
      "name": "Ejercicios_sesion_1.ipynb",
      "provenance": [],
      "collapsed_sections": [],
      "authorship_tag": "ABX9TyODgN8fVLKoeRINv7VbYbfs",
      "include_colab_link": true
    },
    "kernelspec": {
      "name": "python3",
      "display_name": "Python 3"
    },
    "language_info": {
      "name": "python"
    }
  },
  "cells": [
    {
      "cell_type": "markdown",
      "metadata": {
        "id": "view-in-github",
        "colab_type": "text"
      },
      "source": [
        "<a href=\"https://colab.research.google.com/github/pedrodominguezb/Algoritmos-y-estructura-de-datos/blob/main/Ejercicios_sesion_1.ipynb\" target=\"_parent\"><img src=\"https://colab.research.google.com/assets/colab-badge.svg\" alt=\"Open In Colab\"/></a>"
      ]
    },
    {
      "cell_type": "markdown",
      "metadata": {
        "id": "EUpo2V_Vj9DJ"
      },
      "source": [
        "Ejercio 1: Se tiene la siguiente lista de valores:\n",
        "\n",
        "lista_ = [1,2,3,4,5,6,6, [2,4,5,6,7,8,9], 'hola', 45]\n",
        "\n",
        "Necesitamos extraer de la lista anidada todos los valores que sean menores a 7 ya que son de vital importancia para generar un diccionario de datos.\n",
        "\n",
        "Consejo: use type para conocer el tipo de datos de los valores de la lista."
      ]
    },
    {
      "cell_type": "code",
      "metadata": {
        "colab": {
          "base_uri": "https://localhost:8080/"
        },
        "id": "meaZ-zJrj-8F",
        "outputId": "d8b65de0-188f-42f7-d954-d96684d85fa7"
      },
      "source": [
        "lista_mixta=[1,2,3,4,5,6,6,[2,4,5,6,6,5,4,3,2,1,5,6,7,8,9],'hola',45]\n",
        "def get_my_list (lista_mixta):\n",
        "    for index in range(0,len(lista_mixta)):\n",
        "        if type(lista_mixta[index]) == list:\n",
        "            output_lista=lista_mixta[index]\n",
        "            menor_7=list(filter(lambda n:n<7,output_lista))\n",
        "    return menor_7\n",
        "\n",
        "lista=get_my_list(lista_mixta)\n",
        "print (lista)\n",
        "#Los siguientes comentario se corre cuando se obtenga la lista para evaluar si corresponde al resultado dado\n",
        "result = [2, 4, 5, 6, 6, 5, 4, 3, 2, 1, 5, 6]\n",
        "print(result == lista)"
      ],
      "execution_count": 45,
      "outputs": [
        {
          "output_type": "stream",
          "text": [
            "[2, 4, 5, 6, 6, 5, 4, 3, 2, 1, 5, 6]\n",
            "True\n"
          ],
          "name": "stdout"
        }
      ]
    },
    {
      "cell_type": "markdown",
      "metadata": {
        "id": "l_WuywNDgbWf"
      },
      "source": [
        "Ejercicio 2: Se trata de que usted genere una función para que los valores obtenidos en la lista pasen a formar parte de un diccionario que nos ayude a hacer consultas de los valores que se encuentran en esta estrctura de datos."
      ]
    },
    {
      "cell_type": "code",
      "metadata": {
        "colab": {
          "base_uri": "https://localhost:8080/"
        },
        "id": "5AhnuglmgkoL",
        "outputId": "ca113bb9-5b20-43b3-8c3a-1c1ac8fc8c93"
      },
      "source": [
        "diccionario_result={0:2, 1:4, 2:5, 3:6, 4:6, 5:5, 6:4, 7:3, 8:2, 9:1, 10:5, 11:6}\n",
        "\n",
        "def create_dict(lista):\n",
        "  dic={}\n",
        "  keys=range(len(lista))\n",
        "  for index in keys:\n",
        "      dic[index]=lista[index]\n",
        "  return dic\n",
        "\n",
        "print (create_dict(lista))\n",
        "#Los siguientes comentario se corre cuando se obtenga la lista para evaluar si corresponde al resultado dado\n",
        "#diccionario_result = {0: 2, 1: 4, 2: 5, 3: 6, 4: 6, 5: 5, 6: 4, 7: 3, 8: 2, 9: 1, 10: 5, 11: 6}\n",
        "print(diccionario_result == create_dict(lista))"
      ],
      "execution_count": 44,
      "outputs": [
        {
          "output_type": "stream",
          "text": [
            "{0: 2, 1: 4, 2: 5, 3: 6, 4: 6, 5: 5, 6: 4, 7: 3, 8: 2, 9: 1, 10: 5, 11: 6}\n",
            "True\n"
          ],
          "name": "stdout"
        }
      ]
    },
    {
      "cell_type": "markdown",
      "metadata": {
        "id": "jlYIwEsaEIbj"
      },
      "source": [
        "**Objetos web: JSON**\n",
        "\n",
        "Ejercicio 3. Se hizo una petición http y se obtiene la siguiente información en un conjunto de lista y diccionario, necesito obtener cierta información de alto valor para relizar un modelo que nos ayude a identificar objetos en una imágen, obtenga los valores de la key 'object' y almacenelos en una lista para su posterior análisis."
      ]
    },
    {
      "cell_type": "code",
      "metadata": {
        "id": "27REwHLGRARO"
      },
      "source": [
        "cognitive_response=[\n",
        "  {\n",
        "    \"rectangle\": {\n",
        "      \"x\": 6,\n",
        "      \"y\": 390,\n",
        "      \"w\": 48,\n",
        "      \"h\": 40\n",
        "    },\n",
        "    \"object\": \"footwear\",\n",
        "    \"confidence\": 0.513\n",
        "  },\n",
        "  {\n",
        "    \"rectangle\": {\n",
        "      \"x\": 104,\n",
        "      \"y\": 104,\n",
        "      \"w\": 127,\n",
        "      \"h\": 323\n",
        "    },\n",
        "    \"object\": \"person\",\n",
        "    \"confidence\": 0.763\n",
        "  },\n",
        "  {\n",
        "    \"rectangle\": {\n",
        "      \"x\": 174,\n",
        "      \"y\": 236,\n",
        "      \"w\": 113,\n",
        "      \"h\": 74\n",
        "    },\n",
        "    \"object\": \"Laptop\",\n",
        "    \"parent\": {\n",
        "      \"object\": \"computer\",\n",
        "      \"confidence\": 0.56\n",
        "    },\n",
        "    \"confidence\": 0.553\n",
        "  },\n",
        "  {\n",
        "    \"rectangle\": {\n",
        "      \"x\": 351,\n",
        "      \"y\": 331,\n",
        "      \"w\": 154,\n",
        "      \"h\": 99\n",
        "    },\n",
        "    \"object\": \"seating\",\n",
        "    \"confidence\": 0.525\n",
        "  },\n",
        "  {\n",
        "    \"rectangle\": {\n",
        "      \"x\": 0,\n",
        "      \"y\": 101,\n",
        "      \"w\": 174,\n",
        "      \"h\": 329\n",
        "    },\n",
        "    \"object\": \"person\",\n",
        "    \"confidence\": 0.855\n",
        "  },\n",
        "  {\n",
        "    \"rectangle\": {\n",
        "      \"x\": 223,\n",
        "      \"y\": 99,\n",
        "      \"w\": 199,\n",
        "      \"h\": 322\n",
        "    },\n",
        "    \"object\": \"person\",\n",
        "    \"confidence\": 0.725\n",
        "  },\n",
        "  {\n",
        "    \"rectangle\": {\n",
        "      \"x\": 154,\n",
        "      \"y\": 191,\n",
        "      \"w\": 387,\n",
        "      \"h\": 218\n",
        "    },\n",
        "    \"object\": \"seating\",\n",
        "    \"confidence\": 0.679\n",
        "  },\n",
        "  {\n",
        "    \"rectangle\": {\n",
        "      \"x\": 111,\n",
        "      \"y\": 275,\n",
        "      \"w\": 264,\n",
        "      \"h\": 151\n",
        "    },\n",
        "    \"object\": \"table\",\n",
        "    \"confidence\": 0.601\n",
        "  }\n",
        "]"
      ],
      "execution_count": null,
      "outputs": []
    },
    {
      "cell_type": "code",
      "metadata": {
        "id": "J9pyby8JEOhL"
      },
      "source": [
        "def get_object(cognitive_response):\n",
        "    dic_cognitive_response=\n",
        "    return list_objects\n",
        "\n",
        "print(get_object(cognitive_response))"
      ],
      "execution_count": null,
      "outputs": []
    }
  ]
}